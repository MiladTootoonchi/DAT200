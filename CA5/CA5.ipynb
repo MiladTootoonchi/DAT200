{
 "cells": [
  {
   "cell_type": "markdown",
   "metadata": {},
   "source": [
    "# CA5"
   ]
  },
  {
   "cell_type": "markdown",
   "metadata": {},
   "source": [
    "### Imports"
   ]
  },
  {
   "cell_type": "code",
   "execution_count": 2,
   "metadata": {},
   "outputs": [],
   "source": [
    "import pandas as pd\n",
    "import matplotlib.pyplot as plt\n",
    "import seaborn as sns\n",
    "import numpy as np"
   ]
  },
  {
   "cell_type": "markdown",
   "metadata": {},
   "source": [
    "### Reading data"
   ]
  },
  {
   "cell_type": "code",
   "execution_count": 11,
   "metadata": {},
   "outputs": [],
   "source": [
    "df = pd.read_csv(\"./assets/train.csv\", index_col = 0)"
   ]
  },
  {
   "cell_type": "markdown",
   "metadata": {},
   "source": [
    "### Data exploration and visualisation"
   ]
  },
  {
   "cell_type": "code",
   "execution_count": 12,
   "metadata": {},
   "outputs": [
    {
     "name": "stdout",
     "output_type": "stream",
     "text": [
      "(1000, 14)\n"
     ]
    },
    {
     "data": {
      "text/html": [
       "<div>\n",
       "<style scoped>\n",
       "    .dataframe tbody tr th:only-of-type {\n",
       "        vertical-align: middle;\n",
       "    }\n",
       "\n",
       "    .dataframe tbody tr th {\n",
       "        vertical-align: top;\n",
       "    }\n",
       "\n",
       "    .dataframe thead th {\n",
       "        text-align: right;\n",
       "    }\n",
       "</style>\n",
       "<table border=\"1\" class=\"dataframe\">\n",
       "  <thead>\n",
       "    <tr style=\"text-align: right;\">\n",
       "      <th></th>\n",
       "      <th>Width (cm)</th>\n",
       "      <th>Weight (g)</th>\n",
       "      <th>Pericarp Thickness (mm)</th>\n",
       "      <th>Seed Count</th>\n",
       "      <th>Capsaicin Content</th>\n",
       "      <th>Vitamin C Content (mg)</th>\n",
       "      <th>Sugar Content</th>\n",
       "      <th>Moisture Content</th>\n",
       "      <th>Firmness</th>\n",
       "      <th>Average Daily Temperature During Growth (celcius)</th>\n",
       "      <th>Scoville Heat Units (SHU)</th>\n",
       "    </tr>\n",
       "  </thead>\n",
       "  <tbody>\n",
       "    <tr>\n",
       "      <th>count</th>\n",
       "      <td>999.000000</td>\n",
       "      <td>999.000000</td>\n",
       "      <td>998.000000</td>\n",
       "      <td>999.000000</td>\n",
       "      <td>999.000000</td>\n",
       "      <td>1000.000000</td>\n",
       "      <td>999.000000</td>\n",
       "      <td>1000.000000</td>\n",
       "      <td>999.000000</td>\n",
       "      <td>1000.000000</td>\n",
       "      <td>1000.000000</td>\n",
       "    </tr>\n",
       "    <tr>\n",
       "      <th>mean</th>\n",
       "      <td>6.641572</td>\n",
       "      <td>169.346406</td>\n",
       "      <td>4.619499</td>\n",
       "      <td>128.731301</td>\n",
       "      <td>4.215385</td>\n",
       "      <td>142.035180</td>\n",
       "      <td>3.283534</td>\n",
       "      <td>90.878380</td>\n",
       "      <td>3.679179</td>\n",
       "      <td>19.641960</td>\n",
       "      <td>70941.260020</td>\n",
       "    </tr>\n",
       "    <tr>\n",
       "      <th>std</th>\n",
       "      <td>2.139023</td>\n",
       "      <td>123.779026</td>\n",
       "      <td>2.829503</td>\n",
       "      <td>87.270366</td>\n",
       "      <td>3.163125</td>\n",
       "      <td>72.246142</td>\n",
       "      <td>1.938264</td>\n",
       "      <td>18.724314</td>\n",
       "      <td>1.034726</td>\n",
       "      <td>6.436255</td>\n",
       "      <td>108149.917069</td>\n",
       "    </tr>\n",
       "    <tr>\n",
       "      <th>min</th>\n",
       "      <td>0.100000</td>\n",
       "      <td>0.560000</td>\n",
       "      <td>0.000000</td>\n",
       "      <td>0.040000</td>\n",
       "      <td>0.010000</td>\n",
       "      <td>0.950000</td>\n",
       "      <td>0.010000</td>\n",
       "      <td>31.400000</td>\n",
       "      <td>0.850000</td>\n",
       "      <td>0.840000</td>\n",
       "      <td>0.000000</td>\n",
       "    </tr>\n",
       "    <tr>\n",
       "      <th>25%</th>\n",
       "      <td>5.140000</td>\n",
       "      <td>79.020000</td>\n",
       "      <td>2.400000</td>\n",
       "      <td>55.390000</td>\n",
       "      <td>1.710000</td>\n",
       "      <td>92.290000</td>\n",
       "      <td>1.865000</td>\n",
       "      <td>78.585000</td>\n",
       "      <td>2.980000</td>\n",
       "      <td>15.397500</td>\n",
       "      <td>0.000000</td>\n",
       "    </tr>\n",
       "    <tr>\n",
       "      <th>50%</th>\n",
       "      <td>6.600000</td>\n",
       "      <td>147.230000</td>\n",
       "      <td>4.280000</td>\n",
       "      <td>119.490000</td>\n",
       "      <td>3.590000</td>\n",
       "      <td>141.730000</td>\n",
       "      <td>3.140000</td>\n",
       "      <td>89.690000</td>\n",
       "      <td>3.660000</td>\n",
       "      <td>19.495000</td>\n",
       "      <td>0.000000</td>\n",
       "    </tr>\n",
       "    <tr>\n",
       "      <th>75%</th>\n",
       "      <td>8.045000</td>\n",
       "      <td>227.625000</td>\n",
       "      <td>6.560000</td>\n",
       "      <td>186.845000</td>\n",
       "      <td>6.115000</td>\n",
       "      <td>192.720000</td>\n",
       "      <td>4.555000</td>\n",
       "      <td>103.200000</td>\n",
       "      <td>4.375000</td>\n",
       "      <td>23.530000</td>\n",
       "      <td>121349.617500</td>\n",
       "    </tr>\n",
       "    <tr>\n",
       "      <th>max</th>\n",
       "      <td>13.620000</td>\n",
       "      <td>869.970000</td>\n",
       "      <td>14.630000</td>\n",
       "      <td>487.260000</td>\n",
       "      <td>19.020000</td>\n",
       "      <td>450.290000</td>\n",
       "      <td>9.360000</td>\n",
       "      <td>158.300000</td>\n",
       "      <td>8.250000</td>\n",
       "      <td>40.700000</td>\n",
       "      <td>527639.860000</td>\n",
       "    </tr>\n",
       "  </tbody>\n",
       "</table>\n",
       "</div>"
      ],
      "text/plain": [
       "       Width (cm)  Weight (g)  Pericarp Thickness (mm)  Seed Count  \\\n",
       "count  999.000000  999.000000               998.000000  999.000000   \n",
       "mean     6.641572  169.346406                 4.619499  128.731301   \n",
       "std      2.139023  123.779026                 2.829503   87.270366   \n",
       "min      0.100000    0.560000                 0.000000    0.040000   \n",
       "25%      5.140000   79.020000                 2.400000   55.390000   \n",
       "50%      6.600000  147.230000                 4.280000  119.490000   \n",
       "75%      8.045000  227.625000                 6.560000  186.845000   \n",
       "max     13.620000  869.970000                14.630000  487.260000   \n",
       "\n",
       "       Capsaicin Content  Vitamin C Content (mg)  Sugar Content  \\\n",
       "count         999.000000             1000.000000     999.000000   \n",
       "mean            4.215385              142.035180       3.283534   \n",
       "std             3.163125               72.246142       1.938264   \n",
       "min             0.010000                0.950000       0.010000   \n",
       "25%             1.710000               92.290000       1.865000   \n",
       "50%             3.590000              141.730000       3.140000   \n",
       "75%             6.115000              192.720000       4.555000   \n",
       "max            19.020000              450.290000       9.360000   \n",
       "\n",
       "       Moisture Content    Firmness  \\\n",
       "count       1000.000000  999.000000   \n",
       "mean          90.878380    3.679179   \n",
       "std           18.724314    1.034726   \n",
       "min           31.400000    0.850000   \n",
       "25%           78.585000    2.980000   \n",
       "50%           89.690000    3.660000   \n",
       "75%          103.200000    4.375000   \n",
       "max          158.300000    8.250000   \n",
       "\n",
       "       Average Daily Temperature During Growth (celcius)  \\\n",
       "count                                        1000.000000   \n",
       "mean                                           19.641960   \n",
       "std                                             6.436255   \n",
       "min                                             0.840000   \n",
       "25%                                            15.397500   \n",
       "50%                                            19.495000   \n",
       "75%                                            23.530000   \n",
       "max                                            40.700000   \n",
       "\n",
       "       Scoville Heat Units (SHU)  \n",
       "count                1000.000000  \n",
       "mean                70941.260020  \n",
       "std                108149.917069  \n",
       "min                     0.000000  \n",
       "25%                     0.000000  \n",
       "50%                     0.000000  \n",
       "75%                121349.617500  \n",
       "max                527639.860000  "
      ]
     },
     "execution_count": 12,
     "metadata": {},
     "output_type": "execute_result"
    }
   ],
   "source": [
    "print(df.shape)\n",
    "df.describe()"
   ]
  },
  {
   "cell_type": "code",
   "execution_count": 10,
   "metadata": {},
   "outputs": [
    {
     "name": "stdout",
     "output_type": "stream",
     "text": [
      "Width (cm)                                           float64\n",
      "Weight (g)                                           float64\n",
      "Pericarp Thickness (mm)                              float64\n",
      "Seed Count                                           float64\n",
      "Capsaicin Content                                    float64\n",
      "Vitamin C Content (mg)                               float64\n",
      "Sugar Content                                        float64\n",
      "Moisture Content                                     float64\n",
      "Firmness                                             float64\n",
      "color                                                 object\n",
      "Harvest Time                                          object\n",
      "Average Daily Temperature During Growth (celcius)    float64\n",
      "Average Temperature During Storage (celcius)          object\n",
      "Scoville Heat Units (SHU)                            float64\n",
      "dtype: object\n"
     ]
    }
   ],
   "source": [
    "print(df.dtypes)"
   ]
  },
  {
   "cell_type": "code",
   "execution_count": 23,
   "metadata": {},
   "outputs": [
    {
     "name": "stdout",
     "output_type": "stream",
     "text": [
      "Missing Values:\n",
      " Width (cm)                                             1\n",
      "Weight (g)                                             1\n",
      "Pericarp Thickness (mm)                                2\n",
      "Seed Count                                             1\n",
      "Capsaicin Content                                      1\n",
      "Vitamin C Content (mg)                                 0\n",
      "Sugar Content                                          1\n",
      "Moisture Content                                       0\n",
      "Firmness                                               1\n",
      "color                                                  1\n",
      "Harvest Time                                           0\n",
      "Average Daily Temperature During Growth (celcius)      0\n",
      "Average Temperature During Storage (celcius)         648\n",
      "Scoville Heat Units (SHU)                              0\n",
      "dtype: int64 \n",
      "\n",
      "Duplicates: 0\n"
     ]
    }
   ],
   "source": [
    "print(\"Missing Values:\\n\", df.isnull().sum(), \"\\n\")\n",
    "print(\"Duplicates:\", df.duplicated().sum())"
   ]
  },
  {
   "cell_type": "markdown",
   "metadata": {},
   "source": [
    "There is alot of missing values we have to deal with,  \n",
    "however there is not any duplicates.  \n",
    "We know too litle too make a conclusion.  \n",
    "In addition, there is alot of cleaning to do before we can visualize the data.  \n",
    "The visualization and conclusion will therefore be made after the data cleaning."
   ]
  },
  {
   "cell_type": "markdown",
   "metadata": {},
   "source": [
    "### Data cleaning and more visualisation"
   ]
  },
  {
   "cell_type": "code",
   "execution_count": null,
   "metadata": {},
   "outputs": [],
   "source": []
  },
  {
   "cell_type": "markdown",
   "metadata": {},
   "source": [
    "### Data preprocessing"
   ]
  },
  {
   "cell_type": "code",
   "execution_count": null,
   "metadata": {},
   "outputs": [],
   "source": []
  },
  {
   "cell_type": "markdown",
   "metadata": {},
   "source": [
    "### Modelling"
   ]
  },
  {
   "cell_type": "code",
   "execution_count": null,
   "metadata": {},
   "outputs": [],
   "source": []
  },
  {
   "cell_type": "markdown",
   "metadata": {},
   "source": [
    "### Final evaluation"
   ]
  },
  {
   "cell_type": "code",
   "execution_count": null,
   "metadata": {},
   "outputs": [],
   "source": []
  },
  {
   "cell_type": "markdown",
   "metadata": {},
   "source": [
    "### Kaggle submission"
   ]
  },
  {
   "cell_type": "code",
   "execution_count": null,
   "metadata": {},
   "outputs": [],
   "source": []
  }
 ],
 "metadata": {
  "kernelspec": {
   "display_name": "Python 3",
   "language": "python",
   "name": "python3"
  },
  "language_info": {
   "codemirror_mode": {
    "name": "ipython",
    "version": 3
   },
   "file_extension": ".py",
   "mimetype": "text/x-python",
   "name": "python",
   "nbconvert_exporter": "python",
   "pygments_lexer": "ipython3",
   "version": "3.11.4"
  }
 },
 "nbformat": 4,
 "nbformat_minor": 2
}
